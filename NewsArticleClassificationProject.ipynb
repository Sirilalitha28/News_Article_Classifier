{
 "cells": [
  {
   "cell_type": "code",
   "execution_count": 4,
   "id": "bdb642f1-e412-48c4-8e8b-c17039a4b9b7",
   "metadata": {},
   "outputs": [
    {
     "name": "stderr",
     "output_type": "stream",
     "text": [
      "[nltk_data] Downloading package stopwords to\n",
      "[nltk_data]     C:\\Users\\siril\\AppData\\Roaming\\nltk_data...\n",
      "[nltk_data]   Package stopwords is already up-to-date!\n",
      "[nltk_data] Downloading package wordnet to\n",
      "[nltk_data]     C:\\Users\\siril\\AppData\\Roaming\\nltk_data...\n",
      "[nltk_data]   Package wordnet is already up-to-date!\n"
     ]
    },
    {
     "name": "stdout",
     "output_type": "stream",
     "text": [
      "Logistic Regression Accuracy: 0.9891982182628062\n",
      "Naive Bayes Accuracy: 0.9359688195991092\n"
     ]
    },
    {
     "data": {
      "text/plain": [
       "'Fake ❌'"
      ]
     },
     "execution_count": 4,
     "metadata": {},
     "output_type": "execute_result"
    }
   ],
   "source": [
    "#Importing data\n",
    "\n",
    "import pandas as pd\n",
    "import string\n",
    "import nltk\n",
    "import joblib\n",
    "from nltk.corpus import stopwords\n",
    "from nltk.stem import WordNetLemmatizer\n",
    "from sklearn.linear_model import LogisticRegression\n",
    "from sklearn.naive_bayes import MultinomialNB\n",
    "from sklearn.metrics import accuracy_score, classification_report\n",
    "from sklearn.feature_extraction.text import TfidfVectorizer\n",
    "from sklearn.model_selection import train_test_split\n",
    "\n",
    "nltk.download('stopwords')\n",
    "nltk.download('wordnet')\n",
    "\n",
    "#Text Cleaning Function\n",
    "\n",
    "def clean_text(text):\n",
    "    lemmatizer = WordNetLemmatizer()\n",
    "    stop_words = set(stopwords.words('english'))\n",
    "    text = text.lower()\n",
    "    text = ''.join([ch for ch in text if ch not in string.punctuation])\n",
    "    words = text.split()\n",
    "    words = [lemmatizer.lemmatize(w) for w in words if w not in stop_words]\n",
    "    return ' '.join(words)\n",
    "    \n",
    "#Load and Clean Dataset\n",
    "\n",
    "fake = pd.read_csv(\"C:\\\\Users\\\\siril\\\\OneDrive\\\\Documents\\\\MSME\\\\NewsClassification\\\\Fake.csv\")\n",
    "real = pd.read_csv(\"C:\\\\Users\\\\siril\\\\OneDrive\\\\Documents\\\\MSME\\\\NewsClassification\\\\True.csv\")\n",
    "    \n",
    "fake[\"label\"] = 0\n",
    "real[\"label\"] = 1\n",
    "    \n",
    "data = pd.concat([fake, real], ignore_index=True)\n",
    "data[\"text\"] = data[\"title\"] + \" \" + data[\"text\"]\n",
    "data[\"text\"] = data[\"text\"].apply(clean_text)\n",
    "    \n",
    "data = data[[\"text\", \"label\"]]\n",
    "data.head()\n",
    "    \n",
    "#Vectorize Text and Split Data\n",
    "\n",
    "X = data['text']\n",
    "y = data['label']\n",
    "\n",
    "vectorizer = TfidfVectorizer(max_features=5000)\n",
    "X_vec = vectorizer.fit_transform(X)\n",
    "\n",
    "X_train, X_test, y_train, y_test = train_test_split(X_vec, y, test_size=0.2, random_state=42)\n",
    "\n",
    "#Train Models and Evaluate\n",
    "\n",
    "# Logistic Regression modeling\n",
    "\n",
    "lr_model = LogisticRegression()\n",
    "lr_model.fit(X_train, y_train)\n",
    "lr_pred = lr_model.predict(X_test)\n",
    "\n",
    "# Naive Bayes modeling\n",
    "\n",
    "nb_model = MultinomialNB()\n",
    "nb_model.fit(X_train, y_train)\n",
    "nb_pred = nb_model.predict(X_test)\n",
    "\n",
    "# Accuracy Scores\n",
    "\n",
    "print(\"Logistic Regression Accuracy:\", accuracy_score(y_test, lr_pred))\n",
    "print(\"Naive Bayes Accuracy:\", accuracy_score(y_test, nb_pred))\n",
    "\n",
    "#Saving Model &  the Vectorizer\n",
    "\n",
    "joblib.dump(lr_model, \"model.joblib\")\n",
    "joblib.dump(vectorizer, \"vectorizer.joblib\")\n",
    "\n",
    "#Manual Prediction\n",
    "\n",
    "def predict_news(text):\n",
    "    cleaned = clean_text(text)\n",
    "    vec = vectorizer.transform([cleaned])\n",
    "    pred = lr_model.predict(vec)[0]\n",
    "    return \"Real ✅\" if pred == 1 else \"Fake ❌\"\n",
    "    \n",
    "predict_news(\"Breaking news: Government announces big economic reform package.\")\n"
   ]
  }
 ],
 "metadata": {
  "kernelspec": {
   "display_name": "Python 3 (ipykernel)",
   "language": "python",
   "name": "python3"
  },
  "language_info": {
   "codemirror_mode": {
    "name": "ipython",
    "version": 3
   },
   "file_extension": ".py",
   "mimetype": "text/x-python",
   "name": "python",
   "nbconvert_exporter": "python",
   "pygments_lexer": "ipython3",
   "version": "3.12.7"
  }
 },
 "nbformat": 4,
 "nbformat_minor": 5
}
